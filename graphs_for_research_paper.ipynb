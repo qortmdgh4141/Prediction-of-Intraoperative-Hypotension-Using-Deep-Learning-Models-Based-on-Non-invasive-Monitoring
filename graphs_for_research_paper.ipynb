{
  "nbformat": 4,
  "nbformat_minor": 0,
  "metadata": {
    "colab": {
      "private_outputs": true,
      "provenance": [],
      "authorship_tag": "ABX9TyP61WL3T0R9cj+NxvcO5pbB",
      "include_colab_link": true
    },
    "kernelspec": {
      "name": "python3",
      "display_name": "Python 3"
    },
    "language_info": {
      "name": "python"
    }
  },
  "cells": [
    {
      "cell_type": "markdown",
      "metadata": {
        "id": "view-in-github",
        "colab_type": "text"
      },
      "source": [
        "<a href=\"https://colab.research.google.com/github/qortmdgh4141/Prediction-of-Intraoperative-Hypotension-Using-Deep-Learning-Models-Based-on-Non-invasive-Monitoring/blob/main/graphs_for_research_paper.ipynb\" target=\"_parent\"><img src=\"https://colab.research.google.com/assets/colab-badge.svg\" alt=\"Open In Colab\"/></a>"
      ]
    },
    {
      "cell_type": "markdown",
      "source": [],
      "metadata": {
        "id": "rva_L0gkhPgT"
      }
    },
    {
      "cell_type": "code",
      "source": [
        "import numpy as np\n",
        "import seaborn as sns\n",
        "import matplotlib.pyplot as plt\n",
        "\n",
        "# Set the style parameters for title, labels, and ticks\n",
        "gamma_values = [0, 0.5, 1, 2, 5]\n",
        "palette = sns.color_palette(\"husl\", n_colors=len(gamma_values))\n",
        "title_size = 11\n",
        "x_label_size = 9\n",
        "y_label_size = 10\n",
        "tick_label_size = 8\n",
        "\n",
        "pt = np.linspace(0.0001, 1, 100) # Correcting the range of pt to start closer to 0 while avoiding log(0)\n",
        "\n",
        "plt.figure(figsize=(5, 3)) # Recreate the figure with the specified figure size\n",
        "\n",
        "# Plot the focal loss for different gamma values using the husl palette\n",
        "for i, (gamma, color) in enumerate(zip(gamma_values, palette)):\n",
        "    if i ==0:\n",
        "        fl = -(1 - pt) ** gamma * np.log(pt)\n",
        "        plt.plot(pt, fl, label=f'γ = {gamma} (cross-entropy)', color=color, linewidth=3)\n",
        "    else:\n",
        "        fl = -(1 - pt) ** gamma * np.log(pt)\n",
        "        plt.plot(pt, fl, label=f'γ = {gamma}', color=color, linewidth=3)\n",
        "\n",
        "# Set the axes limits\n",
        "plt.xlim(0, 1)\n",
        "plt.ylim(0, 5)\n",
        "\n",
        "# Set the labels and title with specified font sizes\n",
        "plt.xlabel('Probability of Ground Truth Class', fontsize=x_label_size)\n",
        "plt.ylabel('Loss', fontsize=y_label_size)\n",
        "plt.title('Focal Loss for various values of γ', fontsize=title_size)\n",
        "\n",
        "# Set the tick label size\n",
        "plt.xticks(fontsize=tick_label_size)\n",
        "plt.yticks(fontsize=tick_label_size)\n",
        "\n",
        "plt.legend(fontsize=tick_label_size*0.9, edgecolor='gray', framealpha=1, fancybox=True) # Configure and place the legend with specified style\n",
        "plt.grid(False) # Remove the grid\n",
        "plt.plot(1, 0, 'ko')  # Plot a black point at (1,0)\n",
        "\n",
        "plt.show() # Display the plot without changing the size again"
      ],
      "metadata": {
        "id": "ZDeIVt0c-IZY"
      },
      "execution_count": null,
      "outputs": []
    },
    {
      "cell_type": "code",
      "source": [
        "def plot_roc_curves(ax):\n",
        "    palette = sns.color_palette(\"husl\", n_colors=100)\n",
        "    fpr = np.linspace(0, 1, 100) # Generate a range of values to represent the False Positive Rate\n",
        "    # Generate values to represent the True Positive Rate for each classifier\n",
        "    perfect_tpr = np.concatenate(([0], np.linspace(0, 1, 99)))\n",
        "    better_tpr = np.sqrt(1 - (1 - fpr)**2)\n",
        "    good_tpr = np.sqrt(fpr)\n",
        "    # Plot the ROC curves\n",
        "    ax.plot(fpr, better_tpr, color=palette[95], lw=3, label='Better Classifier')\n",
        "    ax.plot(fpr, good_tpr, color=palette[80], lw=3, label='Good Classifier')\n",
        "    ax.plot([0, 1], [0, 1], 'k--', color=palette[35], lw=3, label='Random Classifier')\n",
        "    ax.plot(0, 1, '*',  color=\"red\", markersize=19, zorder=10, label='Perfect Classifier')\n",
        "\n",
        "fig, ax = plt.subplots(figsize=(4, 3)) # Create a figure with specified figure size\n",
        "\n",
        "plot_roc_curves(ax) # Define the ROC curves\n",
        "\n",
        "ax.plot([1, 1], [0, 1], 'k--', color='gray', lw=4, dashes=(1, 1))\n",
        "ax.plot([0, 1], [1, 1], 'k--', color='gray', lw=4, dashes=(1, 1))\n",
        "\n",
        "# Set plot configurations\n",
        "ax.set_xlim(-0.04, 1.15)\n",
        "ax.set_ylim(0, 1.2)\n",
        "\n",
        "ax.set_title('ROC Curve', fontsize=11)\n",
        "ax.set_xlabel('False Positive Rate (FPR)', fontsize=10)\n",
        "ax.set_ylabel('True Positive Rate (TPR)', fontsize=10)\n",
        "\n",
        "ax.tick_params(axis='both', which='both', length=0)  # Remove all ticks\n",
        "ax.set_xticks([0, 1])  # Set x ticks only at 0 and 1\n",
        "ax.set_yticks([0, 1])  # Set y ticks only at 0 and 1\n",
        "\n",
        "ax.legend(fontsize=13.5, edgecolor='gray', framealpha=1, fancybox=True, loc='center left', bbox_to_anchor=(1, 0.5))\n",
        "ax.grid(False)\n",
        "\n",
        "# Use the `annotate` function to create axes arrows\n",
        "ax.annotate('', xy=(1.15,0), xytext=(0,0), arrowprops=dict(facecolor='black', width=1.5, headwidth=8))\n",
        "ax.annotate('', xy=(0,1.2), xytext=(0,0), arrowprops=dict(facecolor='black', width=1.5, headwidth=8))\n",
        "\n",
        "# Remove plot frame\n",
        "ax.spines['top'].set_visible(False)\n",
        "ax.spines['right'].set_visible(False)\n",
        "ax.spines['left'].set_visible(False)\n",
        "ax.spines['bottom'].set_visible(False)\n",
        "\n",
        "plt.subplots_adjust(right=1) # Adjust figure space to prevent clipping of ylabel\n",
        "\n",
        "plt.show() # Show the plot"
      ],
      "metadata": {
        "id": "lK4zgdkT_P03"
      },
      "execution_count": null,
      "outputs": []
    },
    {
      "cell_type": "code",
      "source": [
        "categories = ['SBP', 'MBP', 'DBP', 'ECG', 'PPG', 'EtCO2', 'BIS']\n",
        "hypotension_values = [0.13, 0.22, 0.21, 0.08, 0.05, 0.13, 0.14]\n",
        "nonhypotension_values = [0.1, 0.17, 0.15, 0.14, 0.05, 0.16, 0.2]\n",
        "cl = ('#01b0f1', '#be0002')\n",
        "\n",
        "x = np.arange(len(categories))  # the label locations\n",
        "width = 0.35  # the width of the bars\n",
        "\n",
        "fig, ax = plt.subplots(figsize=(12, 5))\n",
        "\n",
        "# Create bars for hypotension and nonhypotension\n",
        "bars1 = ax.bar(x - width/2, hypotension_values, width, label='Hypotension', color=cl[0])\n",
        "bars2 = ax.bar(x + width/2, nonhypotension_values, width, label='Non-Hypotension', color=cl[1])\n",
        "\n",
        "ax.set_ylim(0, 0.28) # Add some text for labels, title and custom x-axis tick labels, etc.\n",
        "\n",
        "ax.set_title('\\nAttention value of each non-invasive monitor to the prediction\\n', fontsize=18)\n",
        "ax.set_xticks(x)\n",
        "ax.set_xticklabels(['SBP', 'MBP', 'DBP', 'ECG', 'PPG', r'EtCO$_\\mathbf{2}$', 'BIS'], fontsize=16, fontweight='bold')\n",
        "ax.set_ylabel('Attention Value', fontsize=15)\n",
        "ax.set_yticklabels([])\n",
        "ax.tick_params(axis='y', which='both', length=0)\n",
        "ax.yaxis.grid(True, linestyle='-', which='major', color='grey', alpha=0.5)\n",
        "\n",
        "ax.legend(fontsize=12, edgecolor='gray', framealpha=1, fancybox=True, loc='upper right')\n",
        "\n",
        "# Adding value labels on top of each bar\n",
        "for bar in bars1:\n",
        "    height = bar.get_height()\n",
        "    ax.annotate('{}'.format(round(height,2)),\n",
        "                xy=(bar.get_x() + bar.get_width() / 2, height),\n",
        "                xytext=(0, 3),  # 3 points vertical offset\n",
        "                textcoords=\"offset points\",\n",
        "                ha='center', va='bottom')\n",
        "for bar in bars2:\n",
        "    height = bar.get_height()\n",
        "    ax.annotate('{}'.format(round(height,2)),\n",
        "                xy=(bar.get_x() + bar.get_width() / 2, height),\n",
        "                xytext=(0, 3),  # 3 points vertical offset\n",
        "                textcoords=\"offset points\",\n",
        "                ha='center', va='bottom')\n",
        "\n",
        "fig.tight_layout() # Fit the plot neatly\n",
        "\n",
        "plt.show() # Display the plot\n"
      ],
      "metadata": {
        "id": "aNRIwa-R2pO5"
      },
      "execution_count": null,
      "outputs": []
    }
  ]
}